{
 "cells": [
  {
   "cell_type": "code",
   "execution_count": 3,
   "id": "884857ad",
   "metadata": {},
   "outputs": [],
   "source": [
    "import tangram as tg\n",
    "import scanpy as sc"
   ]
  },
  {
   "cell_type": "markdown",
   "id": "188b7c9f",
   "metadata": {},
   "source": [
    "##  在细胞水平使用Tangram"
   ]
  },
  {
   "cell_type": "code",
   "execution_count": 4,
   "id": "49b27052",
   "metadata": {},
   "outputs": [
    {
     "name": "stderr",
     "output_type": "stream",
     "text": [
      "INFO:root:249 training genes are saved in `uns``training_genes` of both single cell and spatial Anndatas.\n",
      "INFO:root:249 overlapped genes are saved in `uns``overlap_genes` of both single cell and spatial Anndatas.\n",
      "INFO:root:uniform based density prior is calculated and saved in `obs``uniform_density` of the spatial Anndata.\n",
      "INFO:root:rna count based density prior is calculated and saved in `obs``rna_count_based_density` of the spatial Anndata.\n"
     ]
    }
   ],
   "source": [
    "ad_sp = sc.read_h5ad('/home/pxy/home/pxy/Tangram/data/test_ad_sp.h5ad')\n",
    "ad_sc = sc.read_h5ad('/home/pxy/home/pxy/Tangram/data/test_ad_sc.h5ad')\n",
    "tg.pp_adatas(ad_sc,ad_sp,genes=None)"
   ]
  },
  {
   "cell_type": "markdown",
   "id": "a05175bc",
   "metadata": {},
   "source": [
    "pp_adatas 寻找sc数据和st数据的基因交集，保存在两个adatas的uns中用于后续的映射和分析<br>\n",
    "genes参数用来自定义交集基因的子集用于训练，为None表示用所有交集基因进行映射"
   ]
  },
  {
   "cell_type": "code",
   "execution_count": 5,
   "id": "d24c616f",
   "metadata": {},
   "outputs": [
    {
     "name": "stderr",
     "output_type": "stream",
     "text": [
      "INFO:root:Allocate tensors for mapping.\n",
      "INFO:root:Begin training with 249 genes and rna_count_based density_prior in cells mode...\n",
      "INFO:root:Printing scores every 100 epochs.\n"
     ]
    },
    {
     "name": "stdout",
     "output_type": "stream",
     "text": [
      "Gene-voxel score: 0.103, Cell densities reg: 0.748\n",
      "Gene-voxel score: 0.779, Cell densities reg: 0.023\n",
      "Gene-voxel score: 0.807, Cell densities reg: 0.005\n",
      "Gene-voxel score: 0.810, Cell densities reg: 0.004\n",
      "Gene-voxel score: 0.811, Cell densities reg: 0.004\n",
      "Gene-voxel score: 0.812, Cell densities reg: 0.004\n",
      "Gene-voxel score: 0.813, Cell densities reg: 0.004\n",
      "Gene-voxel score: 0.813, Cell densities reg: 0.004\n",
      "Gene-voxel score: 0.813, Cell densities reg: 0.004\n",
      "Gene-voxel score: 0.813, Cell densities reg: 0.004\n"
     ]
    },
    {
     "name": "stderr",
     "output_type": "stream",
     "text": [
      "INFO:root:Saving results..\n"
     ]
    }
   ],
   "source": [
    "ad_map = tg.map_cells_to_space(ad_sc,ad_sp,device='cuda')"
   ]
  },
  {
   "cell_type": "markdown",
   "id": "5cca8e8e",
   "metadata": {},
   "source": [
    "返回的 AnnData（ad_map）是一个细胞-spot（voxel）结构，其中 ad_map.X[i, j] 表示细胞 i 位于spot j 的概率。<br>\n",
    "这个ad_map可以用于将单细胞数据中的基因表达投射到空间中，这可以通过 tg.project_genes 实现。"
   ]
  },
  {
   "cell_type": "code",
   "execution_count": null,
   "id": "1530c795",
   "metadata": {},
   "outputs": [],
   "source": []
  }
 ],
 "metadata": {
  "kernelspec": {
   "display_name": "tangram-env",
   "language": "python",
   "name": "python3"
  },
  "language_info": {
   "codemirror_mode": {
    "name": "ipython",
    "version": 3
   },
   "file_extension": ".py",
   "mimetype": "text/x-python",
   "name": "python",
   "nbconvert_exporter": "python",
   "pygments_lexer": "ipython3",
   "version": "3.8.20"
  }
 },
 "nbformat": 4,
 "nbformat_minor": 5
}
